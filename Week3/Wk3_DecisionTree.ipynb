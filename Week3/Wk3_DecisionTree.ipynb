{
  "nbformat": 4,
  "nbformat_minor": 0,
  "metadata": {
    "colab": {
      "provenance": []
    },
    "kernelspec": {
      "name": "python3",
      "display_name": "Python 3"
    },
    "language_info": {
      "name": "python"
    }
  },
  "cells": [
    {
      "cell_type": "code",
      "source": [
        "from sklearn import datasets\n",
        "from sklearn.model_selection import train_test_split\n",
        "from sklearn.metrics import accuracy_score\n",
        "from sklearn.tree import DecisionTreeClassifier"
      ],
      "metadata": {
        "id": "mKxuR4U7JldC"
      },
      "execution_count": 1,
      "outputs": []
    },
    {
      "cell_type": "markdown",
      "source": [
        "**Decision Tree for Classification**"
      ],
      "metadata": {
        "id": "2M2vEiJgJQCt"
      }
    },
    {
      "cell_type": "code",
      "source": [],
      "metadata": {
        "id": "_GSwzr4vMcNc"
      },
      "execution_count": null,
      "outputs": []
    },
    {
      "cell_type": "code",
      "execution_count": 2,
      "metadata": {
        "colab": {
          "base_uri": "https://localhost:8080/"
        },
        "id": "qu3VjBQFH-Iu",
        "outputId": "4d168e87-9c38-42a7-afe0-c74896c7bbea"
      },
      "outputs": [
        {
          "output_type": "execute_result",
          "data": {
            "text/plain": [
              "1.0"
            ]
          },
          "metadata": {},
          "execution_count": 2
        }
      ],
      "source": [
        "# C: Load the diabetes dataset\n",
        "iris_X, iris_y = datasets.load_iris(return_X_y=True)\n",
        "\n",
        "# Split train : test = 8:2\n",
        "X_train, X_test, y_train, y_test = train_test_split(\n",
        "    iris_X, iris_y,\n",
        "    test_size = 0.2,\n",
        "    random_state = 42\n",
        ")\n",
        "\n",
        "# B: Define model\n",
        "dt_classifier = DecisionTreeClassifier()\n",
        "\n",
        "# A: Train\n",
        "dt_classifier.fit(X_train, y_train)\n",
        "\n",
        "# D: Preidct and evaluate\n",
        "y_pred = dt_classifier.predict(X_test)\n",
        "accuracy_score(y_test, y_pred)"
      ]
    },
    {
      "cell_type": "markdown",
      "source": [
        "**Decision Tree for Regression**"
      ],
      "metadata": {
        "id": "pguM-D6nJZzU"
      }
    },
    {
      "cell_type": "code",
      "source": [
        "from sklearn.datasets import fetch_openml\n",
        "from sklearn.model_selection import train_test_split\n",
        "from sklearn.metrics import mean_squared_error\n",
        "from sklearn.tree import DecisionTreeRegressor\n",
        "\n",
        "# C: Load dataset\n",
        "machine_cpu = fetch_openml(name='machine_cpu')\n",
        "machine_data = machine_cpu.data\n",
        "machine_labels = machine_cpu.target\n",
        "\n",
        "# Split train:test = 8:2\n",
        "X_train, X_test, y_train, y_test = train_test_split(\n",
        "    machine_data, machine_labels,\n",
        "    test_size = 0.2,\n",
        "    random_state = 42\n",
        ")\n",
        "\n",
        "# B: Define model\n",
        "tree_reg = DecisionTreeRegressor()\n",
        "\n",
        "# A: Train\n",
        "tree_reg.fit(X_train, y_train)\n",
        "\n",
        "# D: Preidct and evaluate\n",
        "y_pred = tree_reg.predict(X_test)\n",
        "mean_squared_error(y_test, y_pred)"
      ],
      "metadata": {
        "colab": {
          "base_uri": "https://localhost:8080/"
        },
        "id": "gXQD2Ai8JZF-",
        "outputId": "08aedd87-6bb6-4fca-cfbf-87521dc8fa26"
      },
      "execution_count": 3,
      "outputs": [
        {
          "output_type": "stream",
          "name": "stderr",
          "text": [
            "/usr/local/lib/python3.10/dist-packages/sklearn/datasets/_openml.py:311: UserWarning: Multiple active versions of the dataset matching the name machine_cpu exist. Versions may be fundamentally different, returning version 1.\n",
            "  warn(\n",
            "/usr/local/lib/python3.10/dist-packages/sklearn/datasets/_openml.py:1022: FutureWarning: The default value of `parser` will change from `'liac-arff'` to `'auto'` in 1.4. You can set `parser='auto'` to silence this warning. Therefore, an `ImportError` will be raised from 1.4 if the dataset is dense and pandas is not installed. Note that the pandas parser may return different data types. See the Notes Section in fetch_openml's API doc for details.\n",
            "  warn(\n"
          ]
        },
        {
          "output_type": "execute_result",
          "data": {
            "text/plain": [
              "9306.315476190477"
            ]
          },
          "metadata": {},
          "execution_count": 3
        }
      ]
    }
  ]
}